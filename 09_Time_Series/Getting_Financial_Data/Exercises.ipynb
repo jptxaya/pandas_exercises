{
 "cells": [
  {
   "cell_type": "markdown",
   "metadata": {},
   "source": [
    "# Getting Financial Data - Pandas Datareader"
   ]
  },
  {
   "cell_type": "markdown",
   "metadata": {},
   "source": [
    "### Introduction:\n",
    "\n",
    "This time you will get data from a website.\n",
    "\n",
    "\n",
    "### Step 1. Import the necessary libraries"
   ]
  },
  {
   "cell_type": "code",
   "execution_count": 2,
   "metadata": {},
   "outputs": [],
   "source": [
    "import pandas as pd"
   ]
  },
  {
   "cell_type": "markdown",
   "metadata": {},
   "source": [
    "### Step 2. Create your time range (start and end variables). The start date should be 01/01/2015 and the end should today (whatever your today is)."
   ]
  },
  {
   "cell_type": "code",
   "execution_count": 4,
   "metadata": {},
   "outputs": [
    {
     "data": {
      "text/plain": [
       "DatetimeIndex(['2015-01-01', '2015-01-02', '2015-01-03', '2015-01-04',\n",
       "               '2015-01-05', '2015-01-06', '2015-01-07', '2015-01-08',\n",
       "               '2015-01-09', '2015-01-10',\n",
       "               ...\n",
       "               '2024-12-25', '2024-12-26', '2024-12-27', '2024-12-28',\n",
       "               '2024-12-29', '2024-12-30', '2024-12-31', '2025-01-01',\n",
       "               '2025-01-02', '2025-01-03'],\n",
       "              dtype='datetime64[ns]', length=3656, freq='D')"
      ]
     },
     "execution_count": 4,
     "metadata": {},
     "output_type": "execute_result"
    }
   ],
   "source": [
    "dates_array = pd.date_range(start=\"2015-01-01\",end=pd.to_datetime(\"today\"),freq=\"D\")\n",
    "dates_array"
   ]
  },
  {
   "cell_type": "markdown",
   "metadata": {},
   "source": [
    "### Step 3. Get an API key for one of the APIs that are supported by Pandas Datareader, preferably for AlphaVantage.\n",
    "\n",
    "If you do not have an API key for any of the supported APIs, it is easiest to get one for [AlphaVantage](https://www.alphavantage.co/support/#api-key). (Note that the API key is shown directly after the signup. You do *not* receive it via e-mail.)\n",
    "\n",
    "(For a full list of the APIs that are supported by Pandas Datareader, [see here](https://pydata.github.io/pandas-datareader/readers/index.html). As the APIs are provided by third parties, this list may change.)"
   ]
  },
  {
   "cell_type": "markdown",
   "metadata": {},
   "source": [
    "### Step 4. Use Pandas Datarader to read the daily time series for the Apple stock (ticker symbol AAPL) between 01/01/2015 and today, assign it to df_apple and print it."
   ]
  },
  {
   "cell_type": "code",
   "execution_count": 10,
   "metadata": {},
   "outputs": [
    {
     "name": "stdout",
     "output_type": "stream",
     "text": [
      "{'Meta Data': {'1. Information': 'Daily Prices (open, high, low, close) and Volumes', '2. Symbol': 'AAPL', '3. Last Refreshed': '2025-01-02', '4. Output Size': 'Compact', '5. Time Zone': 'US/Eastern'}, 'Time Series (Daily)': {'2025-01-02': {'1. open': '248.9300', '2. high': '249.1000', '3. low': '241.8201', '4. close': '243.8500', '5. volume': '55740731'}, '2024-12-31': {'1. open': '252.4400', '2. high': '253.2800', '3. low': '249.4300', '4. close': '250.4200', '5. volume': '39480718'}, '2024-12-30': {'1. open': '252.2300', '2. high': '253.5000', '3. low': '250.7500', '4. close': '252.2000', '5. volume': '35557542'}, '2024-12-27': {'1. open': '257.8300', '2. high': '258.7000', '3. low': '253.0600', '4. close': '255.5900', '5. volume': '42355321'}, '2024-12-26': {'1. open': '258.1900', '2. high': '260.1000', '3. low': '257.6300', '4. close': '259.0200', '5. volume': '27262983'}, '2024-12-24': {'1. open': '255.4900', '2. high': '258.2100', '3. low': '255.2900', '4. close': '258.2000', '5. volume': '23234705'}, '2024-12-23': {'1. open': '254.7700', '2. high': '255.6500', '3. low': '253.4500', '4. close': '255.2700', '5. volume': '40858774'}, '2024-12-20': {'1. open': '248.0400', '2. high': '255.0000', '3. low': '245.6900', '4. close': '254.4900', '5. volume': '147495267'}, '2024-12-19': {'1. open': '247.5000', '2. high': '252.0000', '3. low': '247.0949', '4. close': '249.7900', '5. volume': '60882264'}, '2024-12-18': {'1. open': '252.1600', '2. high': '254.2800', '3. low': '247.7400', '4. close': '248.0500', '5. volume': '56774101'}, '2024-12-17': {'1. open': '250.0800', '2. high': '253.8300', '3. low': '249.7800', '4. close': '253.4800', '5. volume': '51356360'}, '2024-12-16': {'1. open': '247.9900', '2. high': '251.3800', '3. low': '247.6500', '4. close': '251.0400', '5. volume': '51694753'}, '2024-12-13': {'1. open': '247.8150', '2. high': '249.2902', '3. low': '246.2400', '4. close': '248.1300', '5. volume': '33155290'}, '2024-12-12': {'1. open': '246.8900', '2. high': '248.7400', '3. low': '245.6800', '4. close': '247.9600', '5. volume': '32777532'}, '2024-12-11': {'1. open': '247.9600', '2. high': '250.8000', '3. low': '246.2601', '4. close': '246.4900', '5. volume': '45205814'}, '2024-12-10': {'1. open': '246.8900', '2. high': '248.2100', '3. low': '245.3400', '4. close': '247.7700', '5. volume': '36914806'}, '2024-12-09': {'1. open': '241.8300', '2. high': '247.2400', '3. low': '241.7500', '4. close': '246.7500', '5. volume': '44649232'}, '2024-12-06': {'1. open': '242.9050', '2. high': '244.6300', '3. low': '242.0800', '4. close': '242.8400', '5. volume': '36870619'}, '2024-12-05': {'1. open': '243.9900', '2. high': '244.5400', '3. low': '242.1300', '4. close': '243.0400', '5. volume': '40033878'}, '2024-12-04': {'1. open': '242.8700', '2. high': '244.1100', '3. low': '241.2500', '4. close': '243.0100', '5. volume': '44383935'}, '2024-12-03': {'1. open': '239.8100', '2. high': '242.7600', '3. low': '238.9000', '4. close': '242.6500', '5. volume': '38861017'}, '2024-12-02': {'1. open': '237.2700', '2. high': '240.7900', '3. low': '237.1600', '4. close': '239.5900', '5. volume': '48137103'}, '2024-11-29': {'1. open': '234.8100', '2. high': '237.8100', '3. low': '233.9700', '4. close': '237.3300', '5. volume': '28481377'}, '2024-11-27': {'1. open': '234.4650', '2. high': '235.6900', '3. low': '233.8101', '4. close': '234.9300', '5. volume': '33498439'}, '2024-11-26': {'1. open': '233.3300', '2. high': '235.5700', '3. low': '233.3300', '4. close': '235.0600', '5. volume': '45986189'}, '2024-11-25': {'1. open': '231.4600', '2. high': '233.2450', '3. low': '229.7400', '4. close': '232.8700', '5. volume': '90152832'}, '2024-11-22': {'1. open': '228.0600', '2. high': '230.7199', '3. low': '228.0600', '4. close': '229.8700', '5. volume': '38168252'}, '2024-11-21': {'1. open': '228.8800', '2. high': '230.1550', '3. low': '225.7103', '4. close': '228.5200', '5. volume': '42108327'}, '2024-11-20': {'1. open': '228.0600', '2. high': '229.9300', '3. low': '225.8900', '4. close': '229.0000', '5. volume': '35169566'}, '2024-11-19': {'1. open': '226.9800', '2. high': '230.1600', '3. low': '226.6600', '4. close': '228.2800', '5. volume': '36211774'}, '2024-11-18': {'1. open': '225.2500', '2. high': '229.7400', '3. low': '225.1700', '4. close': '228.0200', '5. volume': '44686020'}, '2024-11-15': {'1. open': '226.4000', '2. high': '226.9200', '3. low': '224.2700', '4. close': '225.0000', '5. volume': '47923696'}, '2024-11-14': {'1. open': '225.0200', '2. high': '228.8700', '3. low': '225.0000', '4. close': '228.2200', '5. volume': '44923941'}, '2024-11-13': {'1. open': '224.0100', '2. high': '226.6500', '3. low': '222.7600', '4. close': '225.1200', '5. volume': '48566217'}, '2024-11-12': {'1. open': '224.5500', '2. high': '225.5900', '3. low': '223.3550', '4. close': '224.2300', '5. volume': '40398299'}, '2024-11-11': {'1. open': '225.0000', '2. high': '225.7000', '3. low': '221.5000', '4. close': '224.2300', '5. volume': '42005602'}, '2024-11-08': {'1. open': '227.1700', '2. high': '228.6600', '3. low': '226.4050', '4. close': '226.9600', '5. volume': '38328824'}, '2024-11-07': {'1. open': '224.6250', '2. high': '227.8750', '3. low': '224.5700', '4. close': '227.4800', '5. volume': '42137691'}, '2024-11-06': {'1. open': '222.6100', '2. high': '226.0650', '3. low': '221.1900', '4. close': '222.7200', '5. volume': '54561121'}, '2024-11-05': {'1. open': '221.7950', '2. high': '223.9500', '3. low': '221.1400', '4. close': '223.4500', '5. volume': '28111338'}, '2024-11-04': {'1. open': '220.9900', '2. high': '222.7900', '3. low': '219.7100', '4. close': '222.0100', '5. volume': '44944468'}, '2024-11-01': {'1. open': '220.9650', '2. high': '225.3500', '3. low': '220.2700', '4. close': '222.9100', '5. volume': '65276741'}, '2024-10-31': {'1. open': '229.3400', '2. high': '229.8300', '3. low': '225.3700', '4. close': '225.9100', '5. volume': '64370086'}, '2024-10-30': {'1. open': '232.6100', '2. high': '233.4700', '3. low': '229.5500', '4. close': '230.1000', '5. volume': '47070907'}, '2024-10-29': {'1. open': '233.1000', '2. high': '234.3250', '3. low': '232.3200', '4. close': '233.6700', '5. volume': '35417247'}, '2024-10-28': {'1. open': '233.3200', '2. high': '234.7300', '3. low': '232.5500', '4. close': '233.4000', '5. volume': '36087134'}, '2024-10-25': {'1. open': '229.7400', '2. high': '233.2200', '3. low': '229.5700', '4. close': '231.4100', '5. volume': '38802304'}, '2024-10-24': {'1. open': '229.9800', '2. high': '230.8200', '3. low': '228.4100', '4. close': '230.5700', '5. volume': '31109503'}, '2024-10-23': {'1. open': '234.0800', '2. high': '235.1440', '3. low': '227.7600', '4. close': '230.7600', '5. volume': '52286979'}, '2024-10-22': {'1. open': '233.8850', '2. high': '236.2200', '3. low': '232.6000', '4. close': '235.8600', '5. volume': '38846578'}, '2024-10-21': {'1. open': '234.4500', '2. high': '236.8500', '3. low': '234.4500', '4. close': '236.4800', '5. volume': '36254470'}, '2024-10-18': {'1. open': '236.1800', '2. high': '236.1800', '3. low': '234.0100', '4. close': '235.0000', '5. volume': '46431472'}, '2024-10-17': {'1. open': '233.4300', '2. high': '233.8500', '3. low': '230.5200', '4. close': '232.1500', '5. volume': '32993810'}, '2024-10-16': {'1. open': '231.6000', '2. high': '232.1200', '3. low': '229.8400', '4. close': '231.7800', '5. volume': '34082240'}, '2024-10-15': {'1. open': '233.6100', '2. high': '237.4900', '3. low': '232.3700', '4. close': '233.8500', '5. volume': '64751367'}, '2024-10-14': {'1. open': '228.7000', '2. high': '231.7300', '3. low': '228.6000', '4. close': '231.3000', '5. volume': '39882085'}, '2024-10-11': {'1. open': '229.3000', '2. high': '229.4100', '3. low': '227.3400', '4. close': '227.5500', '5. volume': '31759188'}, '2024-10-10': {'1. open': '227.7800', '2. high': '229.5000', '3. low': '227.1700', '4. close': '229.0400', '5. volume': '28183544'}, '2024-10-09': {'1. open': '225.2300', '2. high': '229.7500', '3. low': '224.8300', '4. close': '229.5400', '5. volume': '33591091'}, '2024-10-08': {'1. open': '224.3000', '2. high': '225.9800', '3. low': '223.2500', '4. close': '225.7700', '5. volume': '31855693'}, '2024-10-07': {'1. open': '224.5000', '2. high': '225.6900', '3. low': '221.3300', '4. close': '221.6900', '5. volume': '39505354'}, '2024-10-04': {'1. open': '227.9000', '2. high': '228.0000', '3. low': '224.1300', '4. close': '226.8000', '5. volume': '37345098'}, '2024-10-03': {'1. open': '225.1400', '2. high': '226.8050', '3. low': '223.3200', '4. close': '225.6700', '5. volume': '34044158'}, '2024-10-02': {'1. open': '225.8900', '2. high': '227.3700', '3. low': '223.0200', '4. close': '226.7800', '5. volume': '32880605'}, '2024-10-01': {'1. open': '229.5200', '2. high': '229.6500', '3. low': '223.7400', '4. close': '226.2100', '5. volume': '63285048'}, '2024-09-30': {'1. open': '230.0400', '2. high': '233.0000', '3. low': '229.6500', '4. close': '233.0000', '5. volume': '54793391'}, '2024-09-27': {'1. open': '228.4600', '2. high': '229.5200', '3. low': '227.3000', '4. close': '227.7900', '5. volume': '34025967'}, '2024-09-26': {'1. open': '227.3000', '2. high': '228.5000', '3. low': '225.4100', '4. close': '227.5200', '5. volume': '36636707'}, '2024-09-25': {'1. open': '224.9300', '2. high': '227.2900', '3. low': '224.0200', '4. close': '226.3700', '5. volume': '42308715'}, '2024-09-24': {'1. open': '228.6450', '2. high': '229.3500', '3. low': '225.7300', '4. close': '227.3700', '5. volume': '43556068'}, '2024-09-23': {'1. open': '227.3400', '2. high': '229.4500', '3. low': '225.8100', '4. close': '226.4700', '5. volume': '54146023'}, '2024-09-20': {'1. open': '229.9700', '2. high': '233.0900', '3. low': '227.6200', '4. close': '228.2000', '5. volume': '318679888'}, '2024-09-19': {'1. open': '224.9900', '2. high': '229.8200', '3. low': '224.6300', '4. close': '228.8700', '5. volume': '66781315'}, '2024-09-18': {'1. open': '217.5500', '2. high': '222.7100', '3. low': '217.5400', '4. close': '220.6900', '5. volume': '59894928'}, '2024-09-17': {'1. open': '215.7500', '2. high': '216.9000', '3. low': '214.5000', '4. close': '216.7900', '5. volume': '45519339'}, '2024-09-16': {'1. open': '216.5400', '2. high': '217.2200', '3. low': '213.9200', '4. close': '216.3200', '5. volume': '59357427'}, '2024-09-13': {'1. open': '223.5800', '2. high': '224.0400', '3. low': '221.9100', '4. close': '222.5000', '5. volume': '36766619'}, '2024-09-12': {'1. open': '222.5000', '2. high': '223.5500', '3. low': '219.8200', '4. close': '222.7700', '5. volume': '37498225'}, '2024-09-11': {'1. open': '221.4550', '2. high': '223.0900', '3. low': '217.8900', '4. close': '222.6600', '5. volume': '44587072'}, '2024-09-10': {'1. open': '218.9200', '2. high': '221.4800', '3. low': '216.7300', '4. close': '220.1100', '5. volume': '51591033'}, '2024-09-09': {'1. open': '220.8200', '2. high': '221.2700', '3. low': '216.7100', '4. close': '220.9100', '5. volume': '67179965'}, '2024-09-06': {'1. open': '223.9500', '2. high': '225.2400', '3. low': '219.7700', '4. close': '220.8200', '5. volume': '48423011'}, '2024-09-05': {'1. open': '221.6250', '2. high': '225.4800', '3. low': '221.5200', '4. close': '222.3800', '5. volume': '36615398'}, '2024-09-04': {'1. open': '221.6600', '2. high': '221.7800', '3. low': '217.4800', '4. close': '220.8500', '5. volume': '43262758'}, '2024-09-03': {'1. open': '228.5500', '2. high': '229.0000', '3. low': '221.1700', '4. close': '222.7700', '5. volume': '50190574'}, '2024-08-30': {'1. open': '230.1900', '2. high': '230.4000', '3. low': '227.4800', '4. close': '229.0000', '5. volume': '52990770'}, '2024-08-29': {'1. open': '230.1000', '2. high': '232.9200', '3. low': '228.8800', '4. close': '229.7900', '5. volume': '51906297'}, '2024-08-28': {'1. open': '227.9200', '2. high': '229.8600', '3. low': '225.6800', '4. close': '226.4900', '5. volume': '38052167'}, '2024-08-27': {'1. open': '225.9950', '2. high': '228.8500', '3. low': '224.8900', '4. close': '228.0300', '5. volume': '35934559'}, '2024-08-26': {'1. open': '226.7600', '2. high': '227.2800', '3. low': '223.8905', '4. close': '227.1800', '5. volume': '30602208'}, '2024-08-23': {'1. open': '225.6589', '2. high': '228.2200', '3. low': '224.3300', '4. close': '226.8400', '5. volume': '38677250'}, '2024-08-22': {'1. open': '227.7900', '2. high': '228.3400', '3. low': '223.9000', '4. close': '224.5300', '5. volume': '43695321'}, '2024-08-21': {'1. open': '226.5200', '2. high': '227.9800', '3. low': '225.0500', '4. close': '226.4000', '5. volume': '34765480'}, '2024-08-20': {'1. open': '225.7700', '2. high': '227.1700', '3. low': '225.4500', '4. close': '226.5100', '5. volume': '30299033'}, '2024-08-19': {'1. open': '225.7200', '2. high': '225.9900', '3. low': '223.0400', '4. close': '225.8900', '5. volume': '40687813'}, '2024-08-16': {'1. open': '223.9200', '2. high': '226.8271', '3. low': '223.6501', '4. close': '226.0500', '5. volume': '44340240'}, '2024-08-15': {'1. open': '224.6000', '2. high': '225.3500', '3. low': '222.7600', '4. close': '224.7200', '5. volume': '46414013'}, '2024-08-14': {'1. open': '220.5700', '2. high': '223.0300', '3. low': '219.7000', '4. close': '221.7200', '5. volume': '41960574'}, '2024-08-13': {'1. open': '219.0100', '2. high': '221.8900', '3. low': '219.0100', '4. close': '221.2700', '5. volume': '44155331'}, '2024-08-12': {'1. open': '216.0700', '2. high': '219.5099', '3. low': '215.6000', '4. close': '217.5300', '5. volume': '38028092'}}}\n"
     ]
    }
   ],
   "source": [
    "import requests\n",
    "\n",
    "url = 'https://www.alphavantage.co/query?function=TIME_SERIES_DAILY&symbol=AAPL&date=2015-01-01&apikey=STEUZBOUUGPL796Z'\n",
    "r = requests.get(url)\n",
    "data = r.json()\n",
    "\n",
    "print(data)"
   ]
  },
  {
   "cell_type": "markdown",
   "metadata": {},
   "source": [
    "### Step 6. Repeat the two previous steps for a few other stocks, always creating a new dataframe: Tesla, IBM and Microsoft. (Ticker symbols TSLA, IBM and MSFT.)"
   ]
  },
  {
   "cell_type": "code",
   "execution_count": 12,
   "metadata": {},
   "outputs": [
    {
     "data": {
      "text/html": [
       "<div>\n",
       "<style scoped>\n",
       "    .dataframe tbody tr th:only-of-type {\n",
       "        vertical-align: middle;\n",
       "    }\n",
       "\n",
       "    .dataframe tbody tr th {\n",
       "        vertical-align: top;\n",
       "    }\n",
       "\n",
       "    .dataframe thead th {\n",
       "        text-align: right;\n",
       "    }\n",
       "</style>\n",
       "<table border=\"1\" class=\"dataframe\">\n",
       "  <thead>\n",
       "    <tr style=\"text-align: right;\">\n",
       "      <th></th>\n",
       "      <th>date</th>\n",
       "      <th>stock</th>\n",
       "      <th>open</th>\n",
       "      <th>high</th>\n",
       "      <th>low</th>\n",
       "      <th>close</th>\n",
       "      <th>volume</th>\n",
       "    </tr>\n",
       "  </thead>\n",
       "  <tbody>\n",
       "    <tr>\n",
       "      <th>0</th>\n",
       "      <td>2025-01-02</td>\n",
       "      <td>AAPL</td>\n",
       "      <td>248.9300</td>\n",
       "      <td>249.1000</td>\n",
       "      <td>241.8201</td>\n",
       "      <td>243.8500</td>\n",
       "      <td>55740731</td>\n",
       "    </tr>\n",
       "    <tr>\n",
       "      <th>1</th>\n",
       "      <td>2024-12-31</td>\n",
       "      <td>AAPL</td>\n",
       "      <td>252.4400</td>\n",
       "      <td>253.2800</td>\n",
       "      <td>249.4300</td>\n",
       "      <td>250.4200</td>\n",
       "      <td>39480718</td>\n",
       "    </tr>\n",
       "    <tr>\n",
       "      <th>2</th>\n",
       "      <td>2024-12-30</td>\n",
       "      <td>AAPL</td>\n",
       "      <td>252.2300</td>\n",
       "      <td>253.5000</td>\n",
       "      <td>250.7500</td>\n",
       "      <td>252.2000</td>\n",
       "      <td>35557542</td>\n",
       "    </tr>\n",
       "    <tr>\n",
       "      <th>3</th>\n",
       "      <td>2024-12-27</td>\n",
       "      <td>AAPL</td>\n",
       "      <td>257.8300</td>\n",
       "      <td>258.7000</td>\n",
       "      <td>253.0600</td>\n",
       "      <td>255.5900</td>\n",
       "      <td>42355321</td>\n",
       "    </tr>\n",
       "    <tr>\n",
       "      <th>4</th>\n",
       "      <td>2024-12-26</td>\n",
       "      <td>AAPL</td>\n",
       "      <td>258.1900</td>\n",
       "      <td>260.1000</td>\n",
       "      <td>257.6300</td>\n",
       "      <td>259.0200</td>\n",
       "      <td>27262983</td>\n",
       "    </tr>\n",
       "    <tr>\n",
       "      <th>5</th>\n",
       "      <td>2024-12-24</td>\n",
       "      <td>AAPL</td>\n",
       "      <td>255.4900</td>\n",
       "      <td>258.2100</td>\n",
       "      <td>255.2900</td>\n",
       "      <td>258.2000</td>\n",
       "      <td>23234705</td>\n",
       "    </tr>\n",
       "    <tr>\n",
       "      <th>6</th>\n",
       "      <td>2024-12-23</td>\n",
       "      <td>AAPL</td>\n",
       "      <td>254.7700</td>\n",
       "      <td>255.6500</td>\n",
       "      <td>253.4500</td>\n",
       "      <td>255.2700</td>\n",
       "      <td>40858774</td>\n",
       "    </tr>\n",
       "    <tr>\n",
       "      <th>7</th>\n",
       "      <td>2024-12-20</td>\n",
       "      <td>AAPL</td>\n",
       "      <td>248.0400</td>\n",
       "      <td>255.0000</td>\n",
       "      <td>245.6900</td>\n",
       "      <td>254.4900</td>\n",
       "      <td>147495267</td>\n",
       "    </tr>\n",
       "    <tr>\n",
       "      <th>8</th>\n",
       "      <td>2024-12-19</td>\n",
       "      <td>AAPL</td>\n",
       "      <td>247.5000</td>\n",
       "      <td>252.0000</td>\n",
       "      <td>247.0949</td>\n",
       "      <td>249.7900</td>\n",
       "      <td>60882264</td>\n",
       "    </tr>\n",
       "    <tr>\n",
       "      <th>9</th>\n",
       "      <td>2024-12-18</td>\n",
       "      <td>AAPL</td>\n",
       "      <td>252.1600</td>\n",
       "      <td>254.2800</td>\n",
       "      <td>247.7400</td>\n",
       "      <td>248.0500</td>\n",
       "      <td>56774101</td>\n",
       "    </tr>\n",
       "  </tbody>\n",
       "</table>\n",
       "</div>"
      ],
      "text/plain": [
       "         date stock      open      high       low     close     volume\n",
       "0  2025-01-02  AAPL  248.9300  249.1000  241.8201  243.8500   55740731\n",
       "1  2024-12-31  AAPL  252.4400  253.2800  249.4300  250.4200   39480718\n",
       "2  2024-12-30  AAPL  252.2300  253.5000  250.7500  252.2000   35557542\n",
       "3  2024-12-27  AAPL  257.8300  258.7000  253.0600  255.5900   42355321\n",
       "4  2024-12-26  AAPL  258.1900  260.1000  257.6300  259.0200   27262983\n",
       "5  2024-12-24  AAPL  255.4900  258.2100  255.2900  258.2000   23234705\n",
       "6  2024-12-23  AAPL  254.7700  255.6500  253.4500  255.2700   40858774\n",
       "7  2024-12-20  AAPL  248.0400  255.0000  245.6900  254.4900  147495267\n",
       "8  2024-12-19  AAPL  247.5000  252.0000  247.0949  249.7900   60882264\n",
       "9  2024-12-18  AAPL  252.1600  254.2800  247.7400  248.0500   56774101"
      ]
     },
     "execution_count": 12,
     "metadata": {},
     "output_type": "execute_result"
    }
   ],
   "source": [
    "stocks = [\"AAPL\",\"TSLA\",\"IBM\",\"MSFT\"]\n",
    "data_dict = {\"date\":[],\n",
    "             \"stock\":[],\n",
    "             \"open\":[],\n",
    "             \"high\": [],\n",
    "             \"low\": [],\n",
    "             \"close\":[],\n",
    "             \"volume\":[]\n",
    "}\n",
    "for stock in stocks:\n",
    "    url = f'https://www.alphavantage.co/query?function=TIME_SERIES_DAILY&symbol={stock}&date=2015-01-01&apikey=STEUZBOUUGPL796Z'\n",
    "    r = requests.get(url)\n",
    "    data = r.json()\n",
    "    for elem in data[\"Time Series (Daily)\"]:\n",
    "        data_dict[\"date\"].append(elem)\n",
    "        data_dict[\"stock\"].append(stock)\n",
    "        data_dict[\"open\"].append(data[\"Time Series (Daily)\"][elem][\"1. open\"])\n",
    "        data_dict[\"high\"].append(data[\"Time Series (Daily)\"][elem][\"2. high\"])\n",
    "        data_dict[\"low\"].append( data[\"Time Series (Daily)\"][elem][\"3. low\"])\n",
    "        data_dict[\"close\"].append(data[\"Time Series (Daily)\"][elem][\"4. close\"])\n",
    "        data_dict[\"volume\"].append(data[\"Time Series (Daily)\"][elem][\"5. volume\"])\n",
    "\n",
    "pd_data = pd.DataFrame(data=data_dict)\n",
    "pd_data.head(10)"
   ]
  },
  {
   "cell_type": "markdown",
   "metadata": {},
   "source": [
    "### Step 7. Combine the four separate dataFrames into one combined dataFrame df that holds the information for all four stocks"
   ]
  },
  {
   "cell_type": "code",
   "execution_count": 13,
   "metadata": {},
   "outputs": [
    {
     "data": {
      "text/plain": [
       "date      object\n",
       "stock     object\n",
       "open      object\n",
       "high      object\n",
       "low       object\n",
       "close     object\n",
       "volume    object\n",
       "dtype: object"
      ]
     },
     "execution_count": 13,
     "metadata": {},
     "output_type": "execute_result"
    }
   ],
   "source": [
    "pd_data.dtypes"
   ]
  },
  {
   "cell_type": "markdown",
   "metadata": {},
   "source": [
    "### Step 8. Shift the stock column into the index (making it a multi-level index consisting of the ticker symbol and the date)."
   ]
  },
  {
   "cell_type": "code",
   "execution_count": 14,
   "metadata": {},
   "outputs": [
    {
     "data": {
      "text/plain": [
       "date      datetime64[ns]\n",
       "stock             object\n",
       "open              object\n",
       "high              object\n",
       "low               object\n",
       "close             object\n",
       "volume            object\n",
       "dtype: object"
      ]
     },
     "execution_count": 14,
     "metadata": {},
     "output_type": "execute_result"
    }
   ],
   "source": [
    "pd_data.date = pd.to_datetime(pd_data.date)\n",
    "pd_data.dtypes"
   ]
  },
  {
   "cell_type": "code",
   "execution_count": 15,
   "metadata": {},
   "outputs": [
    {
     "data": {
      "text/html": [
       "<div>\n",
       "<style scoped>\n",
       "    .dataframe tbody tr th:only-of-type {\n",
       "        vertical-align: middle;\n",
       "    }\n",
       "\n",
       "    .dataframe tbody tr th {\n",
       "        vertical-align: top;\n",
       "    }\n",
       "\n",
       "    .dataframe thead th {\n",
       "        text-align: right;\n",
       "    }\n",
       "</style>\n",
       "<table border=\"1\" class=\"dataframe\">\n",
       "  <thead>\n",
       "    <tr style=\"text-align: right;\">\n",
       "      <th></th>\n",
       "      <th></th>\n",
       "      <th>open</th>\n",
       "      <th>high</th>\n",
       "      <th>low</th>\n",
       "      <th>close</th>\n",
       "      <th>volume</th>\n",
       "    </tr>\n",
       "    <tr>\n",
       "      <th>stock</th>\n",
       "      <th>date</th>\n",
       "      <th></th>\n",
       "      <th></th>\n",
       "      <th></th>\n",
       "      <th></th>\n",
       "      <th></th>\n",
       "    </tr>\n",
       "  </thead>\n",
       "  <tbody>\n",
       "    <tr>\n",
       "      <th rowspan=\"5\" valign=\"top\">AAPL</th>\n",
       "      <th>2025-01-02</th>\n",
       "      <td>248.9300</td>\n",
       "      <td>249.1000</td>\n",
       "      <td>241.8201</td>\n",
       "      <td>243.8500</td>\n",
       "      <td>55740731</td>\n",
       "    </tr>\n",
       "    <tr>\n",
       "      <th>2024-12-31</th>\n",
       "      <td>252.4400</td>\n",
       "      <td>253.2800</td>\n",
       "      <td>249.4300</td>\n",
       "      <td>250.4200</td>\n",
       "      <td>39480718</td>\n",
       "    </tr>\n",
       "    <tr>\n",
       "      <th>2024-12-30</th>\n",
       "      <td>252.2300</td>\n",
       "      <td>253.5000</td>\n",
       "      <td>250.7500</td>\n",
       "      <td>252.2000</td>\n",
       "      <td>35557542</td>\n",
       "    </tr>\n",
       "    <tr>\n",
       "      <th>2024-12-27</th>\n",
       "      <td>257.8300</td>\n",
       "      <td>258.7000</td>\n",
       "      <td>253.0600</td>\n",
       "      <td>255.5900</td>\n",
       "      <td>42355321</td>\n",
       "    </tr>\n",
       "    <tr>\n",
       "      <th>2024-12-26</th>\n",
       "      <td>258.1900</td>\n",
       "      <td>260.1000</td>\n",
       "      <td>257.6300</td>\n",
       "      <td>259.0200</td>\n",
       "      <td>27262983</td>\n",
       "    </tr>\n",
       "  </tbody>\n",
       "</table>\n",
       "</div>"
      ],
      "text/plain": [
       "                      open      high       low     close    volume\n",
       "stock date                                                        \n",
       "AAPL  2025-01-02  248.9300  249.1000  241.8201  243.8500  55740731\n",
       "      2024-12-31  252.4400  253.2800  249.4300  250.4200  39480718\n",
       "      2024-12-30  252.2300  253.5000  250.7500  252.2000  35557542\n",
       "      2024-12-27  257.8300  258.7000  253.0600  255.5900  42355321\n",
       "      2024-12-26  258.1900  260.1000  257.6300  259.0200  27262983"
      ]
     },
     "execution_count": 15,
     "metadata": {},
     "output_type": "execute_result"
    }
   ],
   "source": [
    "pd_data.set_index([\"stock\",\"date\"],inplace=True)\n",
    "pd_data.head()"
   ]
  },
  {
   "cell_type": "markdown",
   "metadata": {},
   "source": [
    "### Step 7. Create a dataFrame called vol, with the volume values."
   ]
  },
  {
   "cell_type": "code",
   "execution_count": 16,
   "metadata": {},
   "outputs": [
    {
     "data": {
      "text/html": [
       "<div>\n",
       "<style scoped>\n",
       "    .dataframe tbody tr th:only-of-type {\n",
       "        vertical-align: middle;\n",
       "    }\n",
       "\n",
       "    .dataframe tbody tr th {\n",
       "        vertical-align: top;\n",
       "    }\n",
       "\n",
       "    .dataframe thead th {\n",
       "        text-align: right;\n",
       "    }\n",
       "</style>\n",
       "<table border=\"1\" class=\"dataframe\">\n",
       "  <thead>\n",
       "    <tr style=\"text-align: right;\">\n",
       "      <th></th>\n",
       "      <th></th>\n",
       "      <th>volume</th>\n",
       "    </tr>\n",
       "    <tr>\n",
       "      <th>stock</th>\n",
       "      <th>date</th>\n",
       "      <th></th>\n",
       "    </tr>\n",
       "  </thead>\n",
       "  <tbody>\n",
       "    <tr>\n",
       "      <th rowspan=\"5\" valign=\"top\">AAPL</th>\n",
       "      <th>2025-01-02</th>\n",
       "      <td>55740731</td>\n",
       "    </tr>\n",
       "    <tr>\n",
       "      <th>2024-12-31</th>\n",
       "      <td>39480718</td>\n",
       "    </tr>\n",
       "    <tr>\n",
       "      <th>2024-12-30</th>\n",
       "      <td>35557542</td>\n",
       "    </tr>\n",
       "    <tr>\n",
       "      <th>2024-12-27</th>\n",
       "      <td>42355321</td>\n",
       "    </tr>\n",
       "    <tr>\n",
       "      <th>2024-12-26</th>\n",
       "      <td>27262983</td>\n",
       "    </tr>\n",
       "  </tbody>\n",
       "</table>\n",
       "</div>"
      ],
      "text/plain": [
       "                    volume\n",
       "stock date                \n",
       "AAPL  2025-01-02  55740731\n",
       "      2024-12-31  39480718\n",
       "      2024-12-30  35557542\n",
       "      2024-12-27  42355321\n",
       "      2024-12-26  27262983"
      ]
     },
     "execution_count": 16,
     "metadata": {},
     "output_type": "execute_result"
    }
   ],
   "source": [
    "pd_data[\"volume\"] = pd_data[\"volume\"].astype(int)\n",
    "vol = pd_data[\"volume\"].to_frame()\n",
    "vol.head()"
   ]
  },
  {
   "cell_type": "code",
   "execution_count": 17,
   "metadata": {},
   "outputs": [
    {
     "data": {
      "text/plain": [
       "volume    int64\n",
       "dtype: object"
      ]
     },
     "execution_count": 17,
     "metadata": {},
     "output_type": "execute_result"
    }
   ],
   "source": [
    "vol.dtypes"
   ]
  },
  {
   "cell_type": "markdown",
   "metadata": {},
   "source": [
    "### Step 8. Aggregate the data of volume to weekly.\n",
    "Hint: Be careful to not sum data from the same week of 2015 and other years."
   ]
  },
  {
   "cell_type": "code",
   "execution_count": 30,
   "metadata": {},
   "outputs": [
    {
     "data": {
      "text/html": [
       "<div>\n",
       "<style scoped>\n",
       "    .dataframe tbody tr th:only-of-type {\n",
       "        vertical-align: middle;\n",
       "    }\n",
       "\n",
       "    .dataframe tbody tr th {\n",
       "        vertical-align: top;\n",
       "    }\n",
       "\n",
       "    .dataframe thead th {\n",
       "        text-align: right;\n",
       "    }\n",
       "</style>\n",
       "<table border=\"1\" class=\"dataframe\">\n",
       "  <thead>\n",
       "    <tr style=\"text-align: right;\">\n",
       "      <th></th>\n",
       "      <th></th>\n",
       "      <th>volume</th>\n",
       "    </tr>\n",
       "    <tr>\n",
       "      <th>stock</th>\n",
       "      <th>date</th>\n",
       "      <th></th>\n",
       "    </tr>\n",
       "  </thead>\n",
       "  <tbody>\n",
       "    <tr>\n",
       "      <th rowspan=\"5\" valign=\"top\">AAPL</th>\n",
       "      <th>2024-08-18</th>\n",
       "      <td>214898250</td>\n",
       "    </tr>\n",
       "    <tr>\n",
       "      <th>2024-08-25</th>\n",
       "      <td>188124897</td>\n",
       "    </tr>\n",
       "    <tr>\n",
       "      <th>2024-09-01</th>\n",
       "      <td>209486001</td>\n",
       "    </tr>\n",
       "    <tr>\n",
       "      <th>2024-09-08</th>\n",
       "      <td>178491741</td>\n",
       "    </tr>\n",
       "    <tr>\n",
       "      <th>2024-09-15</th>\n",
       "      <td>237622914</td>\n",
       "    </tr>\n",
       "    <tr>\n",
       "      <th>...</th>\n",
       "      <th>...</th>\n",
       "      <td>...</td>\n",
       "    </tr>\n",
       "    <tr>\n",
       "      <th rowspan=\"5\" valign=\"top\">TSLA</th>\n",
       "      <th>2024-12-08</th>\n",
       "      <td>349923951</td>\n",
       "    </tr>\n",
       "    <tr>\n",
       "      <th>2024-12-15</th>\n",
       "      <td>474962693</td>\n",
       "    </tr>\n",
       "    <tr>\n",
       "      <th>2024-12-22</th>\n",
       "      <td>645429899</td>\n",
       "    </tr>\n",
       "    <tr>\n",
       "      <th>2024-12-29</th>\n",
       "      <td>291567836</td>\n",
       "    </tr>\n",
       "    <tr>\n",
       "      <th>2025-01-05</th>\n",
       "      <td>251476882</td>\n",
       "    </tr>\n",
       "  </tbody>\n",
       "</table>\n",
       "<p>84 rows × 1 columns</p>\n",
       "</div>"
      ],
      "text/plain": [
       "                     volume\n",
       "stock date                 \n",
       "AAPL  2024-08-18  214898250\n",
       "      2024-08-25  188124897\n",
       "      2024-09-01  209486001\n",
       "      2024-09-08  178491741\n",
       "      2024-09-15  237622914\n",
       "...                     ...\n",
       "TSLA  2024-12-08  349923951\n",
       "      2024-12-15  474962693\n",
       "      2024-12-22  645429899\n",
       "      2024-12-29  291567836\n",
       "      2025-01-05  251476882\n",
       "\n",
       "[84 rows x 1 columns]"
      ]
     },
     "execution_count": 30,
     "metadata": {},
     "output_type": "execute_result"
    }
   ],
   "source": [
    "weekly = vol.groupby([vol.index.get_level_values(0),pd.Grouper(freq=\"W\",level=-1)]).sum()\n",
    "weekly"
   ]
  },
  {
   "cell_type": "markdown",
   "metadata": {},
   "source": [
    "### Step 9. Find all the volume traded in the year of 2015"
   ]
  },
  {
   "cell_type": "code",
   "execution_count": 32,
   "metadata": {},
   "outputs": [
    {
     "name": "stderr",
     "output_type": "stream",
     "text": [
      "/var/folders/y1/nqw3rhqs1xv4s4gzlmjk02680000gn/T/ipykernel_13917/3205516467.py:2: FutureWarning: 'Y' is deprecated and will be removed in a future version, please use 'YE' instead.\n",
      "  yearly = weekly.groupby([weekly.index.get_level_values(0),pd.Grouper(freq=\"Y\",level=-1)]).sum()\n"
     ]
    },
    {
     "data": {
      "text/html": [
       "<div>\n",
       "<style scoped>\n",
       "    .dataframe tbody tr th:only-of-type {\n",
       "        vertical-align: middle;\n",
       "    }\n",
       "\n",
       "    .dataframe tbody tr th {\n",
       "        vertical-align: top;\n",
       "    }\n",
       "\n",
       "    .dataframe thead th {\n",
       "        text-align: right;\n",
       "    }\n",
       "</style>\n",
       "<table border=\"1\" class=\"dataframe\">\n",
       "  <thead>\n",
       "    <tr style=\"text-align: right;\">\n",
       "      <th></th>\n",
       "      <th></th>\n",
       "      <th>volume</th>\n",
       "    </tr>\n",
       "    <tr>\n",
       "      <th>stock</th>\n",
       "      <th>date</th>\n",
       "      <th></th>\n",
       "    </tr>\n",
       "  </thead>\n",
       "  <tbody>\n",
       "    <tr>\n",
       "      <th rowspan=\"2\" valign=\"top\">AAPL</th>\n",
       "      <th>2024-12-31</th>\n",
       "      <td>4569704000</td>\n",
       "    </tr>\n",
       "    <tr>\n",
       "      <th>2025-12-31</th>\n",
       "      <td>130778991</td>\n",
       "    </tr>\n",
       "    <tr>\n",
       "      <th rowspan=\"2\" valign=\"top\">IBM</th>\n",
       "      <th>2024-12-31</th>\n",
       "      <td>381414072</td>\n",
       "    </tr>\n",
       "    <tr>\n",
       "      <th>2025-12-31</th>\n",
       "      <td>6945575</td>\n",
       "    </tr>\n",
       "    <tr>\n",
       "      <th rowspan=\"2\" valign=\"top\">MSFT</th>\n",
       "      <th>2024-12-31</th>\n",
       "      <td>1939708885</td>\n",
       "    </tr>\n",
       "    <tr>\n",
       "      <th>2025-12-31</th>\n",
       "      <td>43301681</td>\n",
       "    </tr>\n",
       "    <tr>\n",
       "      <th rowspan=\"2\" valign=\"top\">TSLA</th>\n",
       "      <th>2024-12-31</th>\n",
       "      <td>8458461985</td>\n",
       "    </tr>\n",
       "    <tr>\n",
       "      <th>2025-12-31</th>\n",
       "      <td>251476882</td>\n",
       "    </tr>\n",
       "  </tbody>\n",
       "</table>\n",
       "</div>"
      ],
      "text/plain": [
       "                      volume\n",
       "stock date                  \n",
       "AAPL  2024-12-31  4569704000\n",
       "      2025-12-31   130778991\n",
       "IBM   2024-12-31   381414072\n",
       "      2025-12-31     6945575\n",
       "MSFT  2024-12-31  1939708885\n",
       "      2025-12-31    43301681\n",
       "TSLA  2024-12-31  8458461985\n",
       "      2025-12-31   251476882"
      ]
     },
     "execution_count": 32,
     "metadata": {},
     "output_type": "execute_result"
    }
   ],
   "source": [
    "#No information of 2015, taken the values of 2024\n",
    "yearly = weekly.groupby([weekly.index.get_level_values(0),pd.Grouper(freq=\"Y\",level=-1)]).sum()\n",
    "yearly\n"
   ]
  }
 ],
 "metadata": {
  "kernelspec": {
   "display_name": "base",
   "language": "python",
   "name": "python3"
  },
  "language_info": {
   "codemirror_mode": {
    "name": "ipython",
    "version": 3
   },
   "file_extension": ".py",
   "mimetype": "text/x-python",
   "name": "python",
   "nbconvert_exporter": "python",
   "pygments_lexer": "ipython3",
   "version": "3.12.7"
  }
 },
 "nbformat": 4,
 "nbformat_minor": 1
}
